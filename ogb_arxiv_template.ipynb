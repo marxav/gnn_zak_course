{
 "cells": [
  {
   "cell_type": "markdown",
   "metadata": {},
   "source": [
    "# Introduction\n",
    "In this notebook, we will be building a Graph Convolutional Network on the `ogbn-arxiv` citation network and trying to match performance to the [OGB Leaderboard for Node Property Prediction](https://ogb.stanford.edu/docs/leader_nodeprop/#ogbn-arxiv).  Once we can faithfully re-create this, we will move on to implementing improvements and tweaks found in the [Bag of Tricks for Node Classification with Graph Neural Networks](https://arxiv.org/abs/2103.13355) paper.\n",
    "\n",
    "# What you need to do\n",
    "## Basics \n",
    "With few exceptions, you only need to implement the PyTorch/DGL model code and everything else is written to train and evaluate.  Sections you need to write code for will be marked with a \"TODO\" comment.  As a first pass, do not modify any of the code *except where indicated* so that troubleshooting will be easier if you run into problems.\n",
    "\n",
    "## Improvements\n",
    "Once you have a correct implementation and can match leaderboard performance, we can move on to experimentation.  In this section, we will implement a few ideas from the [\"Bag of Tricks\"](https://arxiv.org/abs/2103.13355) paper, which should give improvements above baseline GCN and move you several positions up the leaderboard.  \n",
    "\n",
    "## Statistics\n",
    "At the end of each section, there is code for repeating your experiment 10 times to collect statistics on performance since any single run might be (un)lucky and give unrepresentative performance.  This also allows us to make apples-to-apples comparisons to the leaderboard.  However, this process takes significant time.  Feel free to skip these cells until after you've finished implementing all sections and then you can collect statistics e.g., overnight if you wish.\n",
    "\n",
    "## Extra Credit \n",
    "A great way to learn is to 1) read other peoples' code and 2) tinker.  If you want to maximize your learning, the Extra Credit section will provide a few directions for further exploration.  As part of this, it's recommended you find another submission on the OGB Leaderboard and try to re-create its submission.  This will likely involve reading the paper and code, which is great practice.  If you do something interesting and novel, we'll kindly host it in a public repo as an example of your glory (if you wish).\n",
    "\n",
    "***\n",
    "\n",
    "# Boilerplate"
   ]
  },
  {
   "cell_type": "code",
   "execution_count": 1,
   "metadata": {},
   "outputs": [],
   "source": [
    "import os\n",
    "import math\n",
    "from copy import deepcopy\n",
    "from pathlib import Path\n",
    "import numpy as np\n",
    "import pandas as pd\n",
    "from scipy import stats\n",
    "\n",
    "import torch as th\n",
    "import torch.nn as nn\n",
    "from torch import optim\n",
    "import torch.nn.functional as F\n",
    "\n",
    "import matplotlib.pyplot as plt\n",
    "%matplotlib inline"
   ]
  },
  {
   "cell_type": "code",
   "execution_count": 2,
   "metadata": {},
   "outputs": [
    {
     "name": "stdout",
     "output_type": "stream",
     "text": [
      "Torch version: 1.11.0+cu102.  CUDA version: 10.2\n"
     ]
    }
   ],
   "source": [
    "print(f\"Torch version: {th.__version__}.  CUDA version: {th.version.cuda}\")"
   ]
  },
  {
   "cell_type": "code",
   "execution_count": 3,
   "metadata": {
    "scrolled": true
   },
   "outputs": [
    {
     "name": "stdout",
     "output_type": "stream",
     "text": [
      "Looking in links: https://data.dgl.ai/wheels/repo.html\n",
      "Requirement already satisfied: dgl-cu101 in ./env/lib/python3.8/site-packages (0.8.0.post2)\n",
      "Requirement already satisfied: requests>=2.19.0 in ./env/lib/python3.8/site-packages (from dgl-cu101) (2.27.1)\n",
      "Requirement already satisfied: networkx>=2.1 in ./env/lib/python3.8/site-packages (from dgl-cu101) (2.8)\n",
      "Requirement already satisfied: scipy>=1.1.0 in ./env/lib/python3.8/site-packages (from dgl-cu101) (1.8.0)\n",
      "Requirement already satisfied: numpy>=1.14.0 in ./env/lib/python3.8/site-packages (from dgl-cu101) (1.22.3)\n",
      "Requirement already satisfied: tqdm in ./env/lib/python3.8/site-packages (from dgl-cu101) (4.64.0)\n",
      "Requirement already satisfied: charset-normalizer~=2.0.0; python_version >= \"3\" in ./env/lib/python3.8/site-packages (from requests>=2.19.0->dgl-cu101) (2.0.12)\n",
      "Requirement already satisfied: certifi>=2017.4.17 in ./env/lib/python3.8/site-packages (from requests>=2.19.0->dgl-cu101) (2021.10.8)\n",
      "Requirement already satisfied: urllib3<1.27,>=1.21.1 in ./env/lib/python3.8/site-packages (from requests>=2.19.0->dgl-cu101) (1.26.9)\n",
      "Requirement already satisfied: idna<4,>=2.5; python_version >= \"3\" in ./env/lib/python3.8/site-packages (from requests>=2.19.0->dgl-cu101) (3.3)\n"
     ]
    }
   ],
   "source": [
    "# Follow instructions at https://www.dgl.ai/pages/start.html\n",
    "!pip install dgl-cu101 -f https://data.dgl.ai/wheels/repo.html"
   ]
  },
  {
   "cell_type": "code",
   "execution_count": 4,
   "metadata": {
    "scrolled": true
   },
   "outputs": [
    {
     "name": "stdout",
     "output_type": "stream",
     "text": [
      "Requirement already satisfied: ogb in ./env/lib/python3.8/site-packages (1.3.2)\n",
      "Requirement already satisfied: torch>=1.6.0 in ./env/lib/python3.8/site-packages (from ogb) (1.11.0)\n",
      "Requirement already satisfied: urllib3>=1.24.0 in ./env/lib/python3.8/site-packages (from ogb) (1.26.9)\n",
      "Requirement already satisfied: tqdm>=4.29.0 in ./env/lib/python3.8/site-packages (from ogb) (4.64.0)\n",
      "Requirement already satisfied: six>=1.12.0 in ./env/lib/python3.8/site-packages (from ogb) (1.16.0)\n",
      "Requirement already satisfied: outdated>=0.2.0 in ./env/lib/python3.8/site-packages (from ogb) (0.2.1)\n",
      "Requirement already satisfied: pandas>=0.24.0 in ./env/lib/python3.8/site-packages (from ogb) (1.4.2)\n",
      "Requirement already satisfied: numpy>=1.16.0 in ./env/lib/python3.8/site-packages (from ogb) (1.22.3)\n",
      "Requirement already satisfied: scikit-learn>=0.20.0 in ./env/lib/python3.8/site-packages (from ogb) (1.0.2)\n",
      "Requirement already satisfied: typing-extensions in ./env/lib/python3.8/site-packages (from torch>=1.6.0->ogb) (4.1.1)\n",
      "Requirement already satisfied: littleutils in ./env/lib/python3.8/site-packages (from outdated>=0.2.0->ogb) (0.2.2)\n",
      "Requirement already satisfied: requests in ./env/lib/python3.8/site-packages (from outdated>=0.2.0->ogb) (2.27.1)\n",
      "Requirement already satisfied: pytz>=2020.1 in ./env/lib/python3.8/site-packages (from pandas>=0.24.0->ogb) (2022.1)\n",
      "Requirement already satisfied: python-dateutil>=2.8.1 in ./env/lib/python3.8/site-packages (from pandas>=0.24.0->ogb) (2.8.2)\n",
      "Requirement already satisfied: threadpoolctl>=2.0.0 in ./env/lib/python3.8/site-packages (from scikit-learn>=0.20.0->ogb) (3.1.0)\n",
      "Requirement already satisfied: scipy>=1.1.0 in ./env/lib/python3.8/site-packages (from scikit-learn>=0.20.0->ogb) (1.8.0)\n",
      "Requirement already satisfied: joblib>=0.11 in ./env/lib/python3.8/site-packages (from scikit-learn>=0.20.0->ogb) (1.1.0)\n",
      "Requirement already satisfied: idna<4,>=2.5; python_version >= \"3\" in ./env/lib/python3.8/site-packages (from requests->outdated>=0.2.0->ogb) (3.3)\n",
      "Requirement already satisfied: certifi>=2017.4.17 in ./env/lib/python3.8/site-packages (from requests->outdated>=0.2.0->ogb) (2021.10.8)\n",
      "Requirement already satisfied: charset-normalizer~=2.0.0; python_version >= \"3\" in ./env/lib/python3.8/site-packages (from requests->outdated>=0.2.0->ogb) (2.0.12)\n"
     ]
    }
   ],
   "source": [
    "!pip install ogb"
   ]
  },
  {
   "cell_type": "code",
   "execution_count": 5,
   "metadata": {},
   "outputs": [
    {
     "name": "stderr",
     "output_type": "stream",
     "text": [
      "WARNING:root:The OGB package is out of date. Your version is 1.3.2, while the latest version is 1.3.3.\n"
     ]
    }
   ],
   "source": [
    "os.environ['DGLBACKEND'] = 'pytorch'\n",
    "import dgl\n",
    "from dgl.nn import GraphConv\n",
    "from ogb.nodeproppred import DglNodePropPredDataset, Evaluator"
   ]
  },
  {
   "cell_type": "code",
   "execution_count": 6,
   "metadata": {},
   "outputs": [
    {
     "data": {
      "text/plain": [
       "device(type='cuda')"
      ]
     },
     "execution_count": 6,
     "metadata": {},
     "output_type": "execute_result"
    }
   ],
   "source": [
    "device = 'cuda' if th.cuda.is_available() else 'cpu'\n",
    "device = th.device(device)\n",
    "device"
   ]
  },
  {
   "cell_type": "markdown",
   "metadata": {},
   "source": [
    "## Helper functions"
   ]
  },
  {
   "cell_type": "code",
   "execution_count": 7,
   "metadata": {},
   "outputs": [],
   "source": [
    "def plot_losses(train_losses, val_losses, log=False):\n",
    "    \"\"\"\n",
    "    Plots train/validation loss curves vs training epoch\n",
    "    \"\"\"\n",
    "    fig, ax = plt.subplots()\n",
    "\n",
    "    ax.plot(train_losses, label='Train')\n",
    "    ax.plot(val_losses, label='Val')\n",
    "    ax.set(xlabel='Epoch', ylabel='CrossEnt')\n",
    "    if log:\n",
    "        ax.set_yscale('log')\n",
    "    ax.legend()\n",
    "    ax.grid()\n",
    "    \n",
    "def train(g, labels, split_idx, model, epochs, evaluator, \n",
    "          device, save_path, loss_fn=F.cross_entropy, lr=0.01, es_criteria=5, verbose=False):\n",
    "    \"\"\"\n",
    "    A standard interface for model training.  Should be no reason to change this unless you \n",
    "    want to add improvements (e.g., learning rate scheduler).\n",
    "    \"\"\"\n",
    "    optimizer = optim.Adam(model.parameters(), lr=lr)\n",
    "    best_val_acc = 0\n",
    "    best_test_acc = 0\n",
    "    train_losses = list()\n",
    "    val_losses = list()\n",
    "\n",
    "    features = g.ndata['feat']\n",
    "    \n",
    "    train_mask = split_idx['train'].to(device)\n",
    "    val_mask = split_idx['valid'].to(device)\n",
    "    test_mask = split_idx['test'].to(device)\n",
    "    es_iters = 0\n",
    "    \n",
    "    for e in range(1, epochs+1):\n",
    "        \n",
    "        train_loss, val_loss = train_step(\n",
    "            model, g, features, labels, train_mask, val_mask, optimizer, loss_fn\n",
    "        )\n",
    "        train_losses.append(train_loss)\n",
    "        val_losses.append(val_loss)\n",
    "\n",
    "        # Compute accuracy on training/validation/test\n",
    "        train_acc, val_acc, test_acc = test(model, g, labels, split_idx, evaluator)\n",
    "\n",
    "        # Save the best validation accuracy and the corresponding test accuracy.\n",
    "        if best_val_acc < val_acc:\n",
    "            best_val_acc = val_acc\n",
    "            best_test_acc = test_acc\n",
    "            th.save(model.state_dict(), save_path)\n",
    "            es_iters = 0\n",
    "        else:\n",
    "            es_iters += 1\n",
    "            \n",
    "\n",
    "        if e % 50 == 0 and verbose:\n",
    "            print('In epoch {}, loss: {:.3f}, val acc: {:.3f} (best {:.3f}), test acc: {:.3f} (best {:.3f})'.format(\n",
    "                e, train_loss, val_acc, best_val_acc, test_acc, best_test_acc))\n",
    "            \n",
    "        if es_iters >= es_criteria:\n",
    "            print(f\"Early stopping at {e} epochs\")\n",
    "            break\n",
    "            \n",
    "    return np.array(train_losses), np.array(val_losses)\n",
    "\n",
    "def train_step(model, g, features, labels, train_mask, val_mask, optimizer, loss_fn):\n",
    "    \"\"\"\n",
    "    A single training step\n",
    "    \"\"\"\n",
    "    model.train()\n",
    "\n",
    "    optimizer.zero_grad()\n",
    "    logits = model(g, features)\n",
    "    loss = loss_fn(logits[train_mask], labels[train_mask])\n",
    "    loss.backward()\n",
    "    optimizer.step()\n",
    "    \n",
    "    with th.no_grad():\n",
    "        val_loss = loss_fn(logits[val_mask], labels[val_mask])\n",
    "\n",
    "    return loss.item(), val_loss.item()\n",
    "\n",
    "@th.no_grad()\n",
    "def test(model_cp, g, labels, split_idx, evaluator, best_path=None):\n",
    "    \"\"\"\n",
    "    Executes the OGB Evaluator to return accuracy for \n",
    "    the train, valid and test sets.  If passed in a model file path, \n",
    "    loads the parameters from that file, otherwise uses the model object\n",
    "    passed in.\n",
    "    \"\"\"\n",
    "    model = deepcopy(model_cp)\n",
    "    \n",
    "    if best_path is not None:\n",
    "        model.load_state_dict(th.load(best_path))\n",
    "        \n",
    "    model.eval()\n",
    "    \n",
    "    features = g.ndata['feat']\n",
    "    logits = model(g, features)\n",
    "    y_pred = logits.argmax(1, keepdim=True)\n",
    "\n",
    "    train_acc = evaluator.eval({\n",
    "        'y_true': labels[split_idx['train']].reshape((-1,1)),\n",
    "        'y_pred': y_pred[split_idx['train']],\n",
    "    })['acc']\n",
    "    valid_acc = evaluator.eval({\n",
    "        'y_true': labels[split_idx['valid']].reshape((-1,1)),\n",
    "        'y_pred': y_pred[split_idx['valid']],\n",
    "    })['acc']\n",
    "    test_acc = evaluator.eval({\n",
    "        'y_true': labels[split_idx['test']].reshape((-1,1)),\n",
    "        'y_pred': y_pred[split_idx['test']],\n",
    "    })['acc']\n",
    "\n",
    "    return train_acc, valid_acc, test_acc\n",
    "\n",
    "def characterize_performance(model, g, labels, split_idx, evaluator, best_path, verbose=False):\n",
    "    \"\"\"\n",
    "    Gets performance and compares to the Leaderboard performance for GCN.\n",
    "    Optionally (`verbose=True`) will put the performance in context with the variation\n",
    "    reported on the Leaderboard and indicate whether performance is above/below \n",
    "    1-standard deviation from the mean, as given by Leaderboard.\n",
    "    \"\"\"\n",
    "    train_acc, val_acc, test_acc = test(model, g, labels, split_idx, evaluator, best_path)\n",
    "    print(\n",
    "        f\"Leaderboard:  Test Acc={test_acc_lb} +/- {test_acc_lb_var}, Val Acc={val_acc_lb} +/- {val_acc_lb_var}\\n\"\n",
    "        f\"Yours:        Test Acc={test_acc:.4f},            Val Acc={val_acc:.4f}\\n\"\n",
    "    )\n",
    "    # If this fails, your implementation is likely wrong, or you may have gotten unlucky with a random seed.\n",
    "    # Try a couple times and if it consistently fails, something is wrong.\n",
    "    val_lb = val_acc_lb - val_acc_lb_var\n",
    "    val_ub = val_acc_lb + val_acc_lb_var\n",
    "    \n",
    "    if verbose:\n",
    "        if not val_acc >= val_lb:\n",
    "            print(\n",
    "                f\"Validation performance is worse than LB.  Expected lower bound of {val_lb:.4f}, but got {val_acc:.4f}.\")\n",
    "        elif val_acc > val_ub:\n",
    "            print(\n",
    "                f\"Validation performance is better than LB.  Expected upper bound of {val_ub:.4f}, but got {val_acc:.4f}.\")\n",
    "        else: \n",
    "            print(\n",
    "                f\"Validation performance is in the expected range of {val_lb} - {val_ub}.\"\n",
    "            )\n",
    "    \n",
    "    test_lb = test_acc_lb - test_acc_lb_var\n",
    "    test_ub = test_acc_lb + test_acc_lb_var\n",
    "    if verbose:\n",
    "        if not test_acc >= test_lb:\n",
    "            print(\n",
    "                f\"Test performance is worse than LB.  Expected lower bound of {test_lb:.4f}, but got {test_acc:.4f}.\")\n",
    "\n",
    "        elif test_acc > test_ub:\n",
    "            print(\n",
    "                f\"Test performance is better than LB.  Expected upper bound of {test_ub:.4f}, but got {test_acc:.4f}.\")\n",
    "        else:\n",
    "            print(f\"Test performance is in the expected range of {test_lb} - {test_ub}.\")\n",
    "        \n",
    "    return val_acc, test_acc\n",
    "\n",
    "def norm_plot(curves, title):\n",
    "    \"\"\"\n",
    "    Plots normal distribution curves\n",
    "    curves: list of tuples like: (mu, sigma, label)\n",
    "    \"\"\"\n",
    "    fig, ax = plt.subplots()\n",
    "    for mu, sigma, label in curves:\n",
    "        x = np.linspace(mu - 3*sigma, mu + 3*sigma, 100)\n",
    "        ax.plot(x, stats.norm.pdf(x, mu, sigma), label=label)\n",
    "    \n",
    "    ax.set_title(title)\n",
    "    ax.legend()\n",
    "    \n",
    "def get_experiment_stats(model_cls, model_args, train_args, n_experiments=10):\n",
    "    \"\"\"\n",
    "    Runs an experiment multiple times to get a measure of variation\n",
    "    \"\"\"\n",
    "    results = dict()\n",
    "    for i in range(n_experiments):\n",
    "        model = model_cls(**model_args).to(train_args['device'])\n",
    "        print(f\"Starting training for experiment {i+1}\")\n",
    "        \n",
    "        # Add experiment number to model save_path\n",
    "        train_args_cp = deepcopy(train_args)\n",
    "        save_path, file_ext = train_args_cp.pop('save_path').split('.')\n",
    "        save_path_mod = f\"{save_path}_{i}.{file_ext}\"\n",
    "        \n",
    "        train_losses, val_losses = train(model=model, save_path=save_path_mod, **train_args_cp)\n",
    "        val_acc, test_acc = characterize_performance(\n",
    "            model, train_args['g'], train_args['labels'], train_args['split_idx'], \n",
    "            train_args['evaluator'], save_path_mod, train_args.get('verbose', False))\n",
    "        \n",
    "        results[i] = dict(val_acc=val_acc, test_acc=test_acc)\n",
    "        print(\"Training complete\\n\")\n",
    "        \n",
    "    df_stats = pd.DataFrame(results).T.agg(['mean', 'std'])\n",
    "    return df_stats"
   ]
  },
  {
   "cell_type": "markdown",
   "metadata": {},
   "source": [
    "# Basics\n",
    "## Get OGB dataset and GCN leaderboard performance\n",
    "We will use the `ogb` python package to download the data, give us the correct train/validation/test splits for proper comparison and an `Evaluator` to make sure performance is measured appropriately.  "
   ]
  },
  {
   "cell_type": "code",
   "execution_count": 8,
   "metadata": {},
   "outputs": [],
   "source": [
    "dataset = DglNodePropPredDataset(name = \"ogbn-arxiv\", root = 'dataset/')"
   ]
  },
  {
   "cell_type": "code",
   "execution_count": 9,
   "metadata": {},
   "outputs": [],
   "source": [
    "# Values from the OGB leaderboard of GCN, submitted May 1, 2020\n",
    "val_acc_lb, val_acc_lb_var, test_acc_lb, test_acc_lb_var = 0.7300, 0.0017, 0.7174, 0.0029\n",
    "evaluator = Evaluator(name = \"ogbn-arxiv\")"
   ]
  },
  {
   "cell_type": "code",
   "execution_count": 10,
   "metadata": {},
   "outputs": [],
   "source": [
    "# Extract split indices, DGL graph and labels\n",
    "split_idx = dataset.get_idx_split()\n",
    "g = dataset.graph[0]\n",
    "labels = dataset.labels.flatten().to(device)"
   ]
  },
  {
   "cell_type": "code",
   "execution_count": 11,
   "metadata": {},
   "outputs": [
    {
     "data": {
      "text/plain": [
       "tensor([[-0.0579, -0.0525, -0.0726,  ...,  0.1734, -0.1728, -0.1401],\n",
       "        [-0.1245, -0.0707, -0.3252,  ...,  0.0685, -0.3721, -0.3010],\n",
       "        [-0.0802, -0.0233, -0.1838,  ...,  0.1099,  0.1176, -0.1399],\n",
       "        ...,\n",
       "        [-0.2205, -0.0366, -0.4022,  ...,  0.1134, -0.1614, -0.1452],\n",
       "        [-0.1382,  0.0409, -0.2518,  ..., -0.0893, -0.0413, -0.3761],\n",
       "        [-0.0299,  0.2684, -0.1611,  ...,  0.1208,  0.0776, -0.0910]])"
      ]
     },
     "execution_count": 11,
     "metadata": {},
     "output_type": "execute_result"
    }
   ],
   "source": [
    "g.ndata['feat']"
   ]
  },
  {
   "cell_type": "markdown",
   "metadata": {},
   "source": [
    "### Important \n",
    "Add reverse edges and self-loops to the graph, or performance will severely suffer!  By default, the edges are *directed*, meaning an edge from node A -> B is not an edge from node B -> A.  We need to add these reverse edges.  Also, for GCN we need to add an edge from every node to itself (i.e., \"self-loops\").  \n",
    "\n",
    "**Caution**:  Adding self-loops before adding reverse edges can cause unintuitive behavior that duplicates the self-edges.  Specifically, using the `add_reverse_edges` function ([docs](https://docs.dgl.ai/en/0.8.x/generated/dgl.add_reverse_edges.html)) in DGL prior to version 0.8 will \"reverse\" the self-loops and cause duplicates.  Starting in version 0.8, you can specify the `exclude_self` argument (True by default) to ignore self-loops when reversing.  You can also use the `to_bidirected` function ([docs](https://docs.dgl.ai/en/0.8.x/generated/dgl.to_bidirected.html)) to avoid this pitfall.  "
   ]
  },
  {
   "cell_type": "code",
   "execution_count": 12,
   "metadata": {},
   "outputs": [],
   "source": [
    "ndata = g.ndata"
   ]
  },
  {
   "cell_type": "code",
   "execution_count": 13,
   "metadata": {},
   "outputs": [],
   "source": [
    "# TODO\n",
    "g = g.add_self_loop()\n",
    "g = dgl.to_bidirected(g, copy_ndata=True)"
   ]
  },
  {
   "cell_type": "code",
   "execution_count": 14,
   "metadata": {},
   "outputs": [
    {
     "data": {
      "text/plain": [
       "tensor([[-0.0579, -0.0525, -0.0726,  ...,  0.1734, -0.1728, -0.1401],\n",
       "        [-0.1245, -0.0707, -0.3252,  ...,  0.0685, -0.3721, -0.3010],\n",
       "        [-0.0802, -0.0233, -0.1838,  ...,  0.1099,  0.1176, -0.1399],\n",
       "        ...,\n",
       "        [-0.2205, -0.0366, -0.4022,  ...,  0.1134, -0.1614, -0.1452],\n",
       "        [-0.1382,  0.0409, -0.2518,  ..., -0.0893, -0.0413, -0.3761],\n",
       "        [-0.0299,  0.2684, -0.1611,  ...,  0.1208,  0.0776, -0.0910]])"
      ]
     },
     "execution_count": 14,
     "metadata": {},
     "output_type": "execute_result"
    }
   ],
   "source": [
    "g.ndata['feat']"
   ]
  },
  {
   "cell_type": "code",
   "execution_count": 15,
   "metadata": {},
   "outputs": [],
   "source": [
    "# If this fails, you have a mistake\n",
    "assert g.num_edges() == 2484941, \"Number of edges isn't correct!  Make sure self-loop and reverse edges are added.\"\n",
    "# If this fails, you have duplicate edges\n",
    "assert g.is_multigraph is False"
   ]
  },
  {
   "cell_type": "code",
   "execution_count": 16,
   "metadata": {},
   "outputs": [],
   "source": [
    "g = g.to(device)"
   ]
  },
  {
   "cell_type": "markdown",
   "metadata": {},
   "source": [
    "## Define GCN Model\n",
    "To match the performance on the Leaderboard, we'll need to implement our model using the same architecture as the submission.  Note that [their implementation](https://github.com/snap-stanford/ogb/blob/master/examples/nodeproppred/arxiv/gnn.py#L14) is using PyTorch Geometric, not DGL.  However, we can observe these key elements, which you'll need to reproduce:\n",
    "1. Graph Convolution layer\n",
    "  - Exploring the possible arguments (e.g., normalization, if a bias is included, \"improved\"...etc) could raise many questions, but the defaults of optional arguments between DGL and Geometric should give matching implementations (as of this writing).\n",
    "2. Batch Normalization layer\n",
    "  - Not applied to the final output layer\n",
    "3. ReLU activation\n",
    "  - Not applied to the final output layer\n",
    "4. Dropout\n",
    "  - Not applied to the final output layer\n",
    "  \n",
    "Your model output should be the *raw scores* coming from the final Graph Convolution layer (i.e., has shape `(num_nodes, num_classes)`.  The loss function will apply the Softmax activation when calculating the Cross Entropy."
   ]
  },
  {
   "cell_type": "code",
   "execution_count": 17,
   "metadata": {},
   "outputs": [],
   "source": [
    "class GCN(nn.Module):\n",
    "    #def __init__(self): # TODO:  Add arguments here needed to define model components\n",
    "    def __init__(self, in_feats, h_feats, num_classes, num_layers, add_bn=True, dropout=0):\n",
    "        \"\"\"\n",
    "        Defines the architecture of your model.  All layers with learnable parameters should\n",
    "        be created in this method.  The `forward` method will define how to use the \n",
    "        layers created here.\n",
    "        \n",
    "        You will also need to add arguments to the `__init__` method that you need to \n",
    "        create your layers.  For example, you might want to include a `num_layers` argument\n",
    "        so that you can dynamically change the number of layers, and a `dropout` argument \n",
    "        so that this is easy to change.\n",
    "        \n",
    "        Args:\n",
    "            ?\n",
    "        \"\"\"\n",
    "        super(GCN, self).__init__()\n",
    "        # TODO: Define/initialize model components\n",
    "        self.add_bn = add_bn\n",
    "        self.dropout = dropout\n",
    "        \n",
    "        # Input layer\n",
    "        self.convs = nn.ModuleList()\n",
    "        self.convs.append(GraphConv(in_feats, h_feats))\n",
    "        if self.add_bn:\n",
    "            self.bns = nn.ModuleList()\n",
    "            self.bns.append(nn.BatchNorm1d(h_feats))\n",
    "        \n",
    "        # Hidden layers\n",
    "        for _ in range(num_layers - 2):\n",
    "            self.convs.append(GraphConv(h_feats, h_feats))\n",
    "            if self.add_bn:\n",
    "                self.bns.append(nn.BatchNorm1d(h_feats))\n",
    "        \n",
    "        # Output layer\n",
    "        self.convs.append(GraphConv(h_feats, num_classes))\n",
    "\n",
    "    def forward(self, g, in_feat):\n",
    "        \"\"\"\n",
    "        The forward pass of the model, which applies all of the layers\n",
    "        to a given graph and set of node features\n",
    "        \n",
    "        Args:\n",
    "            g (DGLGraph): the graph used for Graph Convolutions\n",
    "            in_feat (Tensor): the node features\n",
    "        \"\"\"\n",
    "        # TODO: Stack model components to compute the forward pass \n",
    "        h = in_feat\n",
    "        for i, conv in enumerate(self.convs[:-1]):    \n",
    "            h = conv(g, h)\n",
    "            if self.add_bn:\n",
    "                h = self.bns[i](h)\n",
    "            h = F.relu(h)\n",
    "            h = F.dropout(h, p=self.dropout, training=self.training)\n",
    "        h = self.convs[-1](g, h)\n",
    "        return h"
   ]
  },
  {
   "cell_type": "markdown",
   "metadata": {},
   "source": [
    "Put all of the arguments you added to the `__init__` method of your GCN model in a dictionary, where the key is the argument name and the value is the argument value.  For example:\n",
    "\n",
    "```python\n",
    "model_kwargs = dict(dropout=0.5, num_layers=3)\n",
    "```\n",
    "\n",
    "To match the Leaderboard performance, use the following hyperparameters:\n",
    "- Hidden layer size:  256\n",
    "- Total number of GCN layers (input + hidden + output):  3\n",
    "- Dropout: 0.5"
   ]
  },
  {
   "cell_type": "code",
   "execution_count": 18,
   "metadata": {},
   "outputs": [],
   "source": [
    "model_kwargs = dict(\n",
    "    # TODO: Add your parameter values\n",
    "    in_feats=g.ndata['feat'].shape[1], h_feats=256, num_classes=dataset.num_classes, \n",
    "    num_layers=3, dropout=0.5, add_bn=True\n",
    ")\n",
    "model = GCN(**model_kwargs).to(device)"
   ]
  },
  {
   "cell_type": "code",
   "execution_count": 19,
   "metadata": {},
   "outputs": [],
   "source": [
    "# If this fails, the number of parameters in your model doesn't match the leaderboard's\n",
    "# This means your architecture is different\n",
    "leader_parms = 110120\n",
    "model_parms = sum(p.numel() for p in model.parameters() if p.requires_grad)\n",
    "assert leader_parms == model_parms, \"Number of model parameters different than Leaderboard's\""
   ]
  },
  {
   "cell_type": "markdown",
   "metadata": {},
   "source": [
    "### GCN Training"
   ]
  },
  {
   "cell_type": "code",
   "execution_count": 20,
   "metadata": {},
   "outputs": [],
   "source": [
    "# Where to save the best model\n",
    "model_path = 'models/'\n",
    "Path(model_path).mkdir(parents=True, exist_ok=True)\n",
    "gcn_path = f\"{model_path}/gcn_base.model\""
   ]
  },
  {
   "cell_type": "code",
   "execution_count": 21,
   "metadata": {},
   "outputs": [],
   "source": [
    "train_args = dict(\n",
    "    g=g, labels=labels, split_idx=split_idx, \n",
    "    epochs=500, evaluator=evaluator, device=device, \n",
    "    save_path=gcn_path, lr=5e-3, es_criteria=50,\n",
    ")"
   ]
  },
  {
   "cell_type": "markdown",
   "metadata": {},
   "source": [
    "#### Single run\n",
    "Make sure results are reasonable before collecting statistics"
   ]
  },
  {
   "cell_type": "code",
   "execution_count": 22,
   "metadata": {},
   "outputs": [
    {
     "name": "stdout",
     "output_type": "stream",
     "text": [
      "In epoch 50, loss: 1.033, val acc: 0.701 (best 0.701), test acc: 0.695 (best 0.695)\n",
      "In epoch 100, loss: 0.933, val acc: 0.718 (best 0.718), test acc: 0.710 (best 0.711)\n",
      "In epoch 150, loss: 0.875, val acc: 0.722 (best 0.723), test acc: 0.708 (best 0.715)\n",
      "In epoch 200, loss: 0.835, val acc: 0.722 (best 0.728), test acc: 0.703 (best 0.718)\n",
      "In epoch 250, loss: 0.807, val acc: 0.727 (best 0.729), test acc: 0.714 (best 0.721)\n",
      "In epoch 300, loss: 0.780, val acc: 0.728 (best 0.730), test acc: 0.717 (best 0.719)\n",
      "In epoch 350, loss: 0.759, val acc: 0.728 (best 0.730), test acc: 0.724 (best 0.720)\n",
      "In epoch 400, loss: 0.742, val acc: 0.722 (best 0.731), test acc: 0.706 (best 0.725)\n",
      "Early stopping at 401 epochs\n"
     ]
    }
   ],
   "source": [
    "train_losses, val_losses = train(model=model, verbose=True, **train_args)"
   ]
  },
  {
   "cell_type": "code",
   "execution_count": 23,
   "metadata": {},
   "outputs": [
    {
     "data": {
      "image/png": "[encoded data removed]",
      "text/plain": [
       "<Figure size 432x288 with 1 Axes>"
      ]
     },
     "metadata": {
      "needs_background": "light"
     },
     "output_type": "display_data"
    }
   ],
   "source": [
    "plot_losses(train_losses, val_losses, log=True)"
   ]
  },
  {
   "cell_type": "markdown",
   "metadata": {},
   "source": [
    "The Leaderboard reports the average performance and the standard deviation across 10 trials.  This will evaluate whether your model's performance is within 1 standard deviation of the mean (expected to happen in 68% of cases if your model has the same performance as the leaderboard).  It will report your performance as \"Worse\" if it's less than $\\mu - \\sigma$ and \"Better\" if it's greater than $\\mu + \\sigma$ (where $\\mu$ is the average and $\\sigma$ is the standard deviation).  Even if your performance is identical, this will be wrong in ~32% of cases, so try a few times if it's close, or consider the $\\pm 2\\sigma$ range instead for 95% confidence."
   ]
  },
  {
   "cell_type": "code",
   "execution_count": 24,
   "metadata": {},
   "outputs": [
    {
     "name": "stdout",
     "output_type": "stream",
     "text": [
      "Leaderboard:  Test Acc=0.7174 +/- 0.0029, Val Acc=0.73 +/- 0.0017\n",
      "Yours:        Test Acc=0.7252,            Val Acc=0.7306\n",
      "\n",
      "Validation performance is in the expected range of 0.7283 - 0.7317.\n",
      "Test performance is better than LB.  Expected upper bound of 0.7203, but got 0.7252.\n"
     ]
    }
   ],
   "source": [
    "_ = characterize_performance(model, g, labels, split_idx, evaluator, gcn_path, verbose=True)"
   ]
  },
  {
   "cell_type": "markdown",
   "metadata": {},
   "source": [
    "#### Collect statistics\n",
    "To properly assess the quality of our model, we'll need to run several times and compare the performance distribution.  Since this is time consuming, *only run this once you're getting reasonable results from single runs.*"
   ]
  },
  {
   "cell_type": "code",
   "execution_count": 25,
   "metadata": {
    "scrolled": true
   },
   "outputs": [
    {
     "name": "stdout",
     "output_type": "stream",
     "text": [
      "Starting training for experiment 1\n",
      "Early stopping at 390 epochs\n",
      "Leaderboard:  Test Acc=0.7174 +/- 0.0029, Val Acc=0.73 +/- 0.0017\n",
      "Yours:        Test Acc=0.7223,            Val Acc=0.7310\n",
      "\n",
      "Training complete\n",
      "\n",
      "Starting training for experiment 2\n",
      "Early stopping at 403 epochs\n",
      "Leaderboard:  Test Acc=0.7174 +/- 0.0029, Val Acc=0.73 +/- 0.0017\n",
      "Yours:        Test Acc=0.7191,            Val Acc=0.7306\n",
      "\n",
      "Training complete\n",
      "\n",
      "Starting training for experiment 3\n",
      "Early stopping at 252 epochs\n",
      "Leaderboard:  Test Acc=0.7174 +/- 0.0029, Val Acc=0.73 +/- 0.0017\n",
      "Yours:        Test Acc=0.7204,            Val Acc=0.7264\n",
      "\n",
      "Training complete\n",
      "\n",
      "Starting training for experiment 4\n",
      "Early stopping at 308 epochs\n",
      "Leaderboard:  Test Acc=0.7174 +/- 0.0029, Val Acc=0.73 +/- 0.0017\n",
      "Yours:        Test Acc=0.7179,            Val Acc=0.7299\n",
      "\n",
      "Training complete\n",
      "\n",
      "Starting training for experiment 5\n",
      "Early stopping at 311 epochs\n",
      "Leaderboard:  Test Acc=0.7174 +/- 0.0029, Val Acc=0.73 +/- 0.0017\n",
      "Yours:        Test Acc=0.7185,            Val Acc=0.7290\n",
      "\n",
      "Training complete\n",
      "\n",
      "Starting training for experiment 6\n",
      "Early stopping at 289 epochs\n",
      "Leaderboard:  Test Acc=0.7174 +/- 0.0029, Val Acc=0.73 +/- 0.0017\n",
      "Yours:        Test Acc=0.7206,            Val Acc=0.7303\n",
      "\n",
      "Training complete\n",
      "\n",
      "Starting training for experiment 7\n",
      "Early stopping at 299 epochs\n",
      "Leaderboard:  Test Acc=0.7174 +/- 0.0029, Val Acc=0.73 +/- 0.0017\n",
      "Yours:        Test Acc=0.7187,            Val Acc=0.7304\n",
      "\n",
      "Training complete\n",
      "\n",
      "Starting training for experiment 8\n",
      "Early stopping at 366 epochs\n",
      "Leaderboard:  Test Acc=0.7174 +/- 0.0029, Val Acc=0.73 +/- 0.0017\n",
      "Yours:        Test Acc=0.7245,            Val Acc=0.7320\n",
      "\n",
      "Training complete\n",
      "\n",
      "Starting training for experiment 9\n",
      "Early stopping at 412 epochs\n",
      "Leaderboard:  Test Acc=0.7174 +/- 0.0029, Val Acc=0.73 +/- 0.0017\n",
      "Yours:        Test Acc=0.7197,            Val Acc=0.7307\n",
      "\n",
      "Training complete\n",
      "\n",
      "Starting training for experiment 10\n",
      "Early stopping at 246 epochs\n",
      "Leaderboard:  Test Acc=0.7174 +/- 0.0029, Val Acc=0.73 +/- 0.0017\n",
      "Yours:        Test Acc=0.7200,            Val Acc=0.7278\n",
      "\n",
      "Training complete\n",
      "\n"
     ]
    }
   ],
   "source": [
    "df_gcn = get_experiment_stats(\n",
    "    model_cls=GCN, model_args=model_kwargs,\n",
    "    train_args=train_args, n_experiments=10\n",
    ")"
   ]
  },
  {
   "cell_type": "code",
   "execution_count": 26,
   "metadata": {},
   "outputs": [
    {
     "data": {
      "image/png": "[encoded data removed]",
      "text/plain": [
       "<Figure size 432x288 with 1 Axes>"
      ]
     },
     "metadata": {
      "needs_background": "light"
     },
     "output_type": "display_data"
    }
   ],
   "source": [
    "norm_plot(\n",
    "    [\n",
    "        (test_acc_lb, test_acc_lb_var, 'Leaderboard'), \n",
    "        (df_gcn.loc['mean', 'test_acc'], df_gcn.loc['std', 'test_acc'], 'GCN'),\n",
    "    ],\n",
    "    'Test Performance'\n",
    ")"
   ]
  },
  {
   "cell_type": "code",
   "execution_count": 27,
   "metadata": {},
   "outputs": [
    {
     "name": "stdout",
     "output_type": "stream",
     "text": [
      "Mean Test Accuracy Improvement: 0.0028\n",
      "Probability that these are from the same performance distribution = 2%\n"
     ]
    }
   ],
   "source": [
    "# Conduct a Welch's t-test to determine if the means are different with statistical significance \n",
    "_, p = stats.ttest_ind_from_stats(\n",
    "    test_acc_lb, test_acc_lb_var, 10,\n",
    "    df_gcn.loc['mean', 'test_acc'], df_gcn.loc['std', 'test_acc'], 10,\n",
    "    equal_var=False,\n",
    ")\n",
    "print(f\"Mean Test Accuracy Improvement: {(df_gcn.loc['mean', 'test_acc'] - test_acc_lb):.4f}\")\n",
    "print(f\"Probability that these are from the same performance distribution = {p*100:.0f}%\")"
   ]
  },
  {
   "cell_type": "markdown",
   "metadata": {},
   "source": [
    "# Improvements\n",
    "Now that we can match the GCN performance from the Leaderboard we can go about improving upon it.  In this section, we will implement a few ideas from the [\"Bag of Tricks\"](https://arxiv.org/abs/2103.13355) paper.  Specifically, we will implement:\n",
    "\n",
    "1. The \"Loge\" loss function they propose\n",
    "2. Linear projected skip connections + Input Dropout (also with Loge loss)\n",
    "\n",
    "These changes should result in climbing several positions up the Leaderboard.  "
   ]
  },
  {
   "cell_type": "code",
   "execution_count": 28,
   "metadata": {},
   "outputs": [],
   "source": [
    "def loge(x, labels):\n",
    "    epsilon = 1 - math.log(2) # right below Eqn. 8\n",
    "    z = F.cross_entropy(x, labels, reduction=\"none\")\n",
    "    y = th.log(epsilon + z) - math.log(epsilon) # Table 1\n",
    "    return th.mean(y)"
   ]
  },
  {
   "cell_type": "code",
   "execution_count": 29,
   "metadata": {},
   "outputs": [],
   "source": [
    "model_loge_kwargs = dict(\n",
    "    # TODO: Add your parameter values\n",
    "    in_feats=g.ndata['feat'].shape[1], h_feats=256, num_classes=dataset.num_classes, \n",
    "    num_layers=3, dropout=0.6, add_bn=True\n",
    ")\n",
    "model_loge = GCN(**model_loge_kwargs).to(device)"
   ]
  },
  {
   "cell_type": "code",
   "execution_count": 30,
   "metadata": {},
   "outputs": [],
   "source": [
    "gcn_loge_path = f\"{model_path}/gcn_loge.model\""
   ]
  },
  {
   "cell_type": "code",
   "execution_count": 31,
   "metadata": {},
   "outputs": [],
   "source": [
    "train_loge_args = dict(\n",
    "    g=g, labels=labels, split_idx=split_idx, \n",
    "    epochs=500, evaluator=evaluator, device=device, \n",
    "    save_path=gcn_loge_path, lr=5e-3, es_criteria=50,\n",
    "    loss_fn=loge\n",
    ")"
   ]
  },
  {
   "cell_type": "code",
   "execution_count": 32,
   "metadata": {},
   "outputs": [
    {
     "name": "stdout",
     "output_type": "stream",
     "text": [
      "In epoch 50, loss: 0.919, val acc: 0.698 (best 0.698), test acc: 0.692 (best 0.692)\n",
      "In epoch 100, loss: 0.834, val acc: 0.721 (best 0.722), test acc: 0.710 (best 0.717)\n",
      "In epoch 150, loss: 0.799, val acc: 0.727 (best 0.728), test acc: 0.713 (best 0.717)\n",
      "In epoch 200, loss: 0.772, val acc: 0.729 (best 0.730), test acc: 0.718 (best 0.721)\n",
      "In epoch 250, loss: 0.750, val acc: 0.730 (best 0.731), test acc: 0.722 (best 0.719)\n",
      "In epoch 300, loss: 0.739, val acc: 0.734 (best 0.734), test acc: 0.722 (best 0.722)\n",
      "In epoch 350, loss: 0.723, val acc: 0.730 (best 0.735), test acc: 0.708 (best 0.725)\n",
      "In epoch 400, loss: 0.715, val acc: 0.730 (best 0.736), test acc: 0.714 (best 0.720)\n",
      "In epoch 450, loss: 0.709, val acc: 0.734 (best 0.736), test acc: 0.720 (best 0.724)\n",
      "Early stopping at 458 epochs\n"
     ]
    }
   ],
   "source": [
    "train_losses, val_losses = train(model=model_loge, verbose=True, **train_loge_args)"
   ]
  },
  {
   "cell_type": "code",
   "execution_count": 33,
   "metadata": {},
   "outputs": [
    {
     "data": {
      "image/png": "[encoded data removed]",
      "text/plain": [
       "<Figure size 432x288 with 1 Axes>"
      ]
     },
     "metadata": {
      "needs_background": "light"
     },
     "output_type": "display_data"
    }
   ],
   "source": [
    "plot_losses(train_losses, val_losses, log=True)"
   ]
  },
  {
   "cell_type": "code",
   "execution_count": 34,
   "metadata": {},
   "outputs": [
    {
     "name": "stdout",
     "output_type": "stream",
     "text": [
      "Leaderboard:  Test Acc=0.7174 +/- 0.0029, Val Acc=0.73 +/- 0.0017\n",
      "Yours:        Test Acc=0.7237,            Val Acc=0.7363\n",
      "\n",
      "Validation performance is better than LB.  Expected upper bound of 0.7317, but got 0.7363.\n",
      "Test performance is better than LB.  Expected upper bound of 0.7203, but got 0.7237.\n"
     ]
    }
   ],
   "source": [
    "_ = characterize_performance(model_loge, g, labels, split_idx, evaluator, gcn_loge_path, verbose=True)"
   ]
  },
  {
   "cell_type": "markdown",
   "metadata": {},
   "source": [
    "#### Collect statistics"
   ]
  },
  {
   "cell_type": "code",
   "execution_count": 35,
   "metadata": {},
   "outputs": [
    {
     "name": "stdout",
     "output_type": "stream",
     "text": [
      "Starting training for experiment 1\n",
      "Early stopping at 384 epochs\n",
      "Leaderboard:  Test Acc=0.7174 +/- 0.0029, Val Acc=0.73 +/- 0.0017\n",
      "Yours:        Test Acc=0.7255,            Val Acc=0.7354\n",
      "\n",
      "Training complete\n",
      "\n",
      "Starting training for experiment 2\n",
      "Early stopping at 387 epochs\n",
      "Leaderboard:  Test Acc=0.7174 +/- 0.0029, Val Acc=0.73 +/- 0.0017\n",
      "Yours:        Test Acc=0.7231,            Val Acc=0.7341\n",
      "\n",
      "Training complete\n",
      "\n",
      "Starting training for experiment 3\n",
      "Early stopping at 341 epochs\n",
      "Leaderboard:  Test Acc=0.7174 +/- 0.0029, Val Acc=0.73 +/- 0.0017\n",
      "Yours:        Test Acc=0.7206,            Val Acc=0.7344\n",
      "\n",
      "Training complete\n",
      "\n",
      "Starting training for experiment 4\n",
      "Early stopping at 413 epochs\n",
      "Leaderboard:  Test Acc=0.7174 +/- 0.0029, Val Acc=0.73 +/- 0.0017\n",
      "Yours:        Test Acc=0.7248,            Val Acc=0.7360\n",
      "\n",
      "Training complete\n",
      "\n",
      "Starting training for experiment 5\n",
      "Early stopping at 416 epochs\n",
      "Leaderboard:  Test Acc=0.7174 +/- 0.0029, Val Acc=0.73 +/- 0.0017\n",
      "Yours:        Test Acc=0.7244,            Val Acc=0.7351\n",
      "\n",
      "Training complete\n",
      "\n",
      "Starting training for experiment 6\n",
      "Early stopping at 336 epochs\n",
      "Leaderboard:  Test Acc=0.7174 +/- 0.0029, Val Acc=0.73 +/- 0.0017\n",
      "Yours:        Test Acc=0.7205,            Val Acc=0.7337\n",
      "\n",
      "Training complete\n",
      "\n",
      "Starting training for experiment 7\n",
      "Early stopping at 212 epochs\n",
      "Leaderboard:  Test Acc=0.7174 +/- 0.0029, Val Acc=0.73 +/- 0.0017\n",
      "Yours:        Test Acc=0.7211,            Val Acc=0.7307\n",
      "\n",
      "Training complete\n",
      "\n",
      "Starting training for experiment 8\n",
      "Early stopping at 419 epochs\n",
      "Leaderboard:  Test Acc=0.7174 +/- 0.0029, Val Acc=0.73 +/- 0.0017\n",
      "Yours:        Test Acc=0.7247,            Val Acc=0.7355\n",
      "\n",
      "Training complete\n",
      "\n",
      "Starting training for experiment 9\n",
      "Early stopping at 402 epochs\n",
      "Leaderboard:  Test Acc=0.7174 +/- 0.0029, Val Acc=0.73 +/- 0.0017\n",
      "Yours:        Test Acc=0.7195,            Val Acc=0.7347\n",
      "\n",
      "Training complete\n",
      "\n",
      "Starting training for experiment 10\n",
      "Early stopping at 298 epochs\n",
      "Leaderboard:  Test Acc=0.7174 +/- 0.0029, Val Acc=0.73 +/- 0.0017\n",
      "Yours:        Test Acc=0.7201,            Val Acc=0.7317\n",
      "\n",
      "Training complete\n",
      "\n"
     ]
    }
   ],
   "source": [
    "df_loge = get_experiment_stats(\n",
    "    model_cls=GCN, model_args=model_loge_kwargs, \n",
    "    train_args=train_loge_args, n_experiments=10\n",
    ")"
   ]
  },
  {
   "cell_type": "code",
   "execution_count": 36,
   "metadata": {},
   "outputs": [
    {
     "data": {
      "image/png": "[encoded data removed]",
      "text/plain": [
       "<Figure size 432x288 with 1 Axes>"
      ]
     },
     "metadata": {
      "needs_background": "light"
     },
     "output_type": "display_data"
    }
   ],
   "source": [
    "norm_plot(\n",
    "    [\n",
    "        (test_acc_lb, test_acc_lb_var, 'Leaderboard'), \n",
    "        (df_gcn.loc['mean', 'test_acc'], df_gcn.loc['std', 'test_acc'], 'GCN'),\n",
    "        (df_loge.loc['mean', 'test_acc'], df_loge.loc['std', 'test_acc'], 'Loge Loss Func'),\n",
    "    ],\n",
    "    'Test Performance'\n",
    ")"
   ]
  },
  {
   "cell_type": "code",
   "execution_count": 37,
   "metadata": {},
   "outputs": [
    {
     "name": "stdout",
     "output_type": "stream",
     "text": [
      "Mean Test Accuracy Improvement: 0.0050\n",
      "Probability that these are from the same performance distribution = 0%\n"
     ]
    }
   ],
   "source": [
    "# Conduct a Welch's t-test to determine if the means are different with statistical significance \n",
    "_, p = stats.ttest_ind_from_stats(\n",
    "    test_acc_lb, test_acc_lb_var, 10,\n",
    "    df_loge.loc['mean', 'test_acc'], df_loge.loc['std', 'test_acc'], 10,\n",
    "    equal_var=False,\n",
    ")\n",
    "print(f\"Mean Test Accuracy Improvement: {(df_loge.loc['mean', 'test_acc'] - test_acc_lb):.4f}\")\n",
    "print(f\"Probability that these are from the same performance distribution = {p*100:.0f}%\")"
   ]
  },
  {
   "cell_type": "markdown",
   "metadata": {},
   "source": [
    "## Linear skip connections + Input Dropout"
   ]
  },
  {
   "cell_type": "code",
   "execution_count": 38,
   "metadata": {},
   "outputs": [],
   "source": [
    "class GCNwLinear(nn.Module):\n",
    "    def __init__(self, in_feats, h_feats, num_classes, num_layers, dropout):\n",
    "        super(GCNwLinear, self).__init__()\n",
    "        \"\"\"\n",
    "        In addition to GCN from before, create the linear layers to operate on the \n",
    "        input of each GraphConv layer.  As before, also create Batch Norm layers for \n",
    "        all GraphConv layers *except the last one*.\n",
    "        \n",
    "        All layers except the last should support Dropout.  \n",
    "        \n",
    "        For the *input dropout*, it should be as follows:\n",
    "            `self.input_drop = nn.Dropout(min(0.1, dropout))`\n",
    "            \n",
    "        which means that while the network layers can have any value of Dropout, the input\n",
    "        features never receive more than 0.1 dropout rate.\n",
    "        \n",
    "        To re-create my results, only use a bias in *last* GraphConv layer\n",
    "        and none of the linear layers or earlier GraphConv layers.\n",
    "        \"\"\"\n",
    "        self.dropout = dropout\n",
    "        self.num_layers = num_layers\n",
    "        \n",
    "        # Layer containers\n",
    "        self.convs = nn.ModuleList()\n",
    "        self.bns = nn.ModuleList()\n",
    "        self.linear = nn.ModuleList()\n",
    "        \n",
    "        # Input layer\n",
    "        self.input_drop = nn.Dropout(min(0.1, dropout))\n",
    "        self.convs.append(GraphConv(in_feats, h_feats, bias=False))\n",
    "        self.bns.append(nn.BatchNorm1d(h_feats))\n",
    "        self.linear.append(nn.Linear(in_feats, h_feats, bias=False))\n",
    "        \n",
    "        # Hidden layers\n",
    "        for _ in range(num_layers - 2):\n",
    "            self.convs.append(GraphConv(h_feats, h_feats, bias=False))\n",
    "            self.bns.append(nn.BatchNorm1d(h_feats))\n",
    "            self.linear.append(nn.Linear(h_feats, h_feats, bias=False))\n",
    "        \n",
    "        # Output layer\n",
    "        self.convs.append(GraphConv(h_feats, num_classes))\n",
    "        self.linear.append(nn.Linear(h_feats, num_classes, bias=False))\n",
    "\n",
    "    def forward(self, g, in_feat):\n",
    "        h = in_feat\n",
    "        h = self.input_drop(h)\n",
    "        \n",
    "        for i in range(self.num_layers):    \n",
    "            c = self.convs[i](g, h)\n",
    "            linear = self.linear[i](h)\n",
    "            \n",
    "            h = c + linear # Eqn. 3\n",
    "  \n",
    "            if i < self.num_layers - 1:            \n",
    "                h = self.bns[i](h)\n",
    "                h = F.relu(h)\n",
    "                h = F.dropout(h, p=self.dropout, training=self.training)\n",
    "        \n",
    "        return h"
   ]
  },
  {
   "cell_type": "code",
   "execution_count": 39,
   "metadata": {},
   "outputs": [],
   "source": [
    "model_linear_kwargs = dict(\n",
    "    # TODO: Add your parameter values\n",
    "    in_feats=g.ndata['feat'].shape[1], h_feats=256, num_classes=dataset.num_classes, \n",
    "    num_layers=3, dropout=0.5,\n",
    ")\n",
    "model_linear = GCNwLinear(**model_linear_kwargs).to(device)"
   ]
  },
  {
   "cell_type": "code",
   "execution_count": 40,
   "metadata": {},
   "outputs": [],
   "source": [
    "gcn_linear_path = f\"{model_path}/gcn_linear.model\""
   ]
  },
  {
   "cell_type": "code",
   "execution_count": 41,
   "metadata": {},
   "outputs": [],
   "source": [
    "train_linear_args = dict(\n",
    "    g=g, labels=labels, split_idx=split_idx, \n",
    "    epochs=500, evaluator=evaluator, device=device, \n",
    "    save_path=gcn_linear_path, lr=5e-3, es_criteria=50,\n",
    "    loss_fn=loge\n",
    ")"
   ]
  },
  {
   "cell_type": "code",
   "execution_count": 42,
   "metadata": {},
   "outputs": [
    {
     "name": "stdout",
     "output_type": "stream",
     "text": [
      "In epoch 50, loss: 0.941, val acc: 0.705 (best 0.705), test acc: 0.695 (best 0.698)\n",
      "In epoch 100, loss: 0.843, val acc: 0.719 (best 0.725), test acc: 0.700 (best 0.710)\n",
      "In epoch 150, loss: 0.798, val acc: 0.725 (best 0.731), test acc: 0.704 (best 0.720)\n",
      "In epoch 200, loss: 0.769, val acc: 0.732 (best 0.735), test acc: 0.711 (best 0.723)\n",
      "In epoch 250, loss: 0.750, val acc: 0.727 (best 0.736), test acc: 0.706 (best 0.727)\n",
      "In epoch 300, loss: 0.732, val acc: 0.735 (best 0.739), test acc: 0.718 (best 0.727)\n",
      "In epoch 350, loss: 0.725, val acc: 0.738 (best 0.739), test acc: 0.727 (best 0.724)\n",
      "Early stopping at 377 epochs\n"
     ]
    }
   ],
   "source": [
    "train_losses, val_losses = train(model=model_linear, verbose=True, **train_linear_args)"
   ]
  },
  {
   "cell_type": "code",
   "execution_count": 43,
   "metadata": {},
   "outputs": [
    {
     "data": {
      "image/png": "[encoded data removed]",
      "text/plain": [
       "<Figure size 432x288 with 1 Axes>"
      ]
     },
     "metadata": {
      "needs_background": "light"
     },
     "output_type": "display_data"
    }
   ],
   "source": [
    "plot_losses(train_losses, val_losses, log=True)"
   ]
  },
  {
   "cell_type": "code",
   "execution_count": 44,
   "metadata": {},
   "outputs": [
    {
     "name": "stdout",
     "output_type": "stream",
     "text": [
      "Leaderboard:  Test Acc=0.7174 +/- 0.0029, Val Acc=0.73 +/- 0.0017\n",
      "Yours:        Test Acc=0.7237,            Val Acc=0.7395\n",
      "\n",
      "Validation performance is better than LB.  Expected upper bound of 0.7317, but got 0.7395.\n",
      "Test performance is better than LB.  Expected upper bound of 0.7203, but got 0.7237.\n"
     ]
    }
   ],
   "source": [
    "_ = characterize_performance(model_linear, g, labels, split_idx, evaluator, gcn_linear_path, verbose=True)"
   ]
  },
  {
   "cell_type": "markdown",
   "metadata": {},
   "source": [
    "### Stats\n",
    "Do this for 10 iterations to get some statistics"
   ]
  },
  {
   "cell_type": "code",
   "execution_count": 45,
   "metadata": {
    "scrolled": true
   },
   "outputs": [
    {
     "name": "stdout",
     "output_type": "stream",
     "text": [
      "Starting training for experiment 1\n",
      "Early stopping at 269 epochs\n",
      "Leaderboard:  Test Acc=0.7174 +/- 0.0029, Val Acc=0.73 +/- 0.0017\n",
      "Yours:        Test Acc=0.7211,            Val Acc=0.7342\n",
      "\n",
      "Training complete\n",
      "\n",
      "Starting training for experiment 2\n",
      "Early stopping at 246 epochs\n",
      "Leaderboard:  Test Acc=0.7174 +/- 0.0029, Val Acc=0.73 +/- 0.0017\n",
      "Yours:        Test Acc=0.7239,            Val Acc=0.7356\n",
      "\n",
      "Training complete\n",
      "\n",
      "Starting training for experiment 3\n",
      "Early stopping at 279 epochs\n",
      "Leaderboard:  Test Acc=0.7174 +/- 0.0029, Val Acc=0.73 +/- 0.0017\n",
      "Yours:        Test Acc=0.7243,            Val Acc=0.7364\n",
      "\n",
      "Training complete\n",
      "\n",
      "Starting training for experiment 4\n",
      "Early stopping at 278 epochs\n",
      "Leaderboard:  Test Acc=0.7174 +/- 0.0029, Val Acc=0.73 +/- 0.0017\n",
      "Yours:        Test Acc=0.7236,            Val Acc=0.7363\n",
      "\n",
      "Training complete\n",
      "\n",
      "Starting training for experiment 5\n",
      "Early stopping at 236 epochs\n",
      "Leaderboard:  Test Acc=0.7174 +/- 0.0029, Val Acc=0.73 +/- 0.0017\n",
      "Yours:        Test Acc=0.7209,            Val Acc=0.7351\n",
      "\n",
      "Training complete\n",
      "\n",
      "Starting training for experiment 6\n",
      "Early stopping at 371 epochs\n",
      "Leaderboard:  Test Acc=0.7174 +/- 0.0029, Val Acc=0.73 +/- 0.0017\n",
      "Yours:        Test Acc=0.7266,            Val Acc=0.7383\n",
      "\n",
      "Training complete\n",
      "\n",
      "Starting training for experiment 7\n",
      "Early stopping at 324 epochs\n",
      "Leaderboard:  Test Acc=0.7174 +/- 0.0029, Val Acc=0.73 +/- 0.0017\n",
      "Yours:        Test Acc=0.7205,            Val Acc=0.7376\n",
      "\n",
      "Training complete\n",
      "\n",
      "Starting training for experiment 8\n",
      "Early stopping at 279 epochs\n",
      "Leaderboard:  Test Acc=0.7174 +/- 0.0029, Val Acc=0.73 +/- 0.0017\n",
      "Yours:        Test Acc=0.7248,            Val Acc=0.7368\n",
      "\n",
      "Training complete\n",
      "\n",
      "Starting training for experiment 9\n",
      "Early stopping at 344 epochs\n",
      "Leaderboard:  Test Acc=0.7174 +/- 0.0029, Val Acc=0.73 +/- 0.0017\n",
      "Yours:        Test Acc=0.7268,            Val Acc=0.7375\n",
      "\n",
      "Training complete\n",
      "\n",
      "Starting training for experiment 10\n",
      "Early stopping at 316 epochs\n",
      "Leaderboard:  Test Acc=0.7174 +/- 0.0029, Val Acc=0.73 +/- 0.0017\n",
      "Yours:        Test Acc=0.7302,            Val Acc=0.7393\n",
      "\n",
      "Training complete\n",
      "\n"
     ]
    }
   ],
   "source": [
    "df_linear = get_experiment_stats(\n",
    "    model_cls=GCNwLinear, model_args=model_linear_kwargs,\n",
    "    train_args=train_linear_args, n_experiments=10\n",
    ")"
   ]
  },
  {
   "cell_type": "code",
   "execution_count": 46,
   "metadata": {},
   "outputs": [
    {
     "data": {
      "image/png": "[encoded data removed]",
      "text/plain": [
       "<Figure size 432x288 with 1 Axes>"
      ]
     },
     "metadata": {
      "needs_background": "light"
     },
     "output_type": "display_data"
    }
   ],
   "source": [
    "norm_plot(\n",
    "    [\n",
    "        (test_acc_lb, test_acc_lb_var, 'Leaderboard'), \n",
    "        (df_gcn.loc['mean', 'test_acc'], df_gcn.loc['std', 'test_acc'], 'GCN'),\n",
    "        (df_loge.loc['mean', 'test_acc'], df_loge.loc['std', 'test_acc'], 'Loge Loss Func'), \n",
    "        (df_linear.loc['mean', 'test_acc'], df_linear.loc['std', 'test_acc'], 'Linear Skip'),\n",
    "    ],\n",
    "    'Test Performance'\n",
    ")"
   ]
  },
  {
   "cell_type": "code",
   "execution_count": 47,
   "metadata": {},
   "outputs": [
    {
     "name": "stdout",
     "output_type": "stream",
     "text": [
      "Mean Test Accuracy Improvement: 0.0069\n",
      "Probability that these are the same = 0%\n"
     ]
    }
   ],
   "source": [
    "_, p = stats.ttest_ind_from_stats(\n",
    "    test_acc_lb, test_acc_lb_var, 10,\n",
    "    df_linear.loc['mean', 'test_acc'], df_linear.loc['std', 'test_acc'], 10,\n",
    "    equal_var=False, #alternative='two-sided',\n",
    ")\n",
    "print(f\"Mean Test Accuracy Improvement: {(df_linear.loc['mean', 'test_acc'] - test_acc_lb):.4f}\")\n",
    "print(f\"Probability that these are the same = {p*100:.0f}%\")"
   ]
  },
  {
   "cell_type": "markdown",
   "metadata": {},
   "source": [
    "### Results summary\n",
    "Although your results might be different, I achieve a mean Test performance of 0.7231 +/- 0.0031.  As of the time of writing, GCN is at position 39 on the leaderboard, but we would be placed at position 30 with these improvements.  The authors of the \"Bag of Tricks\" paper are in position 23 with mean Test performance of 0.7306."
   ]
  },
  {
   "cell_type": "markdown",
   "metadata": {},
   "source": [
    "# Extra Credit\n",
    "There are at least two paths you can take:  \n",
    "\n",
    "## More \"Bag of Tricks\" improvements\n",
    "We implemented the \"Loge\" loss function and added the \"Linear + Skip Connections\" component, but there are many other tweaks presented in the paper, some of which are already on the leaderboard and demonstrate significant gains.  Some specific ideas:\n",
    "- Implement \"Label as input\", where the training set is randomly split such that half the nodes use a one-hot-encoding of the label as an input feature and the other half use dummy values of zeros.  This is an attempt to bring the benefits of Label Propagation to GNNs\n",
    "- Implement \"Label reuse\", where instead of using dummy values for half of the training data's \"label features\", you instead use model predictions from the previous iteration (i.e., \"soft labels\")\n",
    "- Switch from GCN layers to Graph Attention Networks (GAT) and implement the tricks presented in the paper, like using the symmetric normalized adjacency matrix\n",
    "\n",
    "## Find another paper\n",
    "The Leaderboard contains a wide variety of approaches, all with linked papers and code.  Look around and choose one that's interesting.  For example, many top positions as of this writing appear to use self-Knowledge Distillation (\"self-KD\"), so this may be worth exploring."
   ]
  },
  {
   "cell_type": "code",
   "execution_count": null,
   "metadata": {},
   "outputs": [],
   "source": []
  }
 ],
 "metadata": {
  "kernelspec": {
   "display_name": "Python 3 (ipykernel)",
   "language": "python",
   "name": "python3"
  },
  "language_info": {
   "codemirror_mode": {
    "name": "ipython",
    "version": 3
   },
   "file_extension": ".py",
   "mimetype": "text/x-python",
   "name": "python",
   "nbconvert_exporter": "python",
   "pygments_lexer": "ipython3",
   "version": "3.8.10"
  }
 },
 "nbformat": 4,
 "nbformat_minor": 4
}
